{
  "nbformat": 4,
  "nbformat_minor": 0,
  "metadata": {
    "jupytext": {
      "split_at_heading": true
    },
    "kernelspec": {
      "display_name": "Python 3",
      "language": "python",
      "name": "python3"
    },
    "colab": {
      "name": "02_production.ipynb",
      "provenance": []
    }
  },
  "cells": [
    {
      "cell_type": "code",
      "metadata": {
        "id": "rqzPPmePKjoh",
        "outputId": "451ec225-f80e-4f30-ab90-1e4305ba7f1d",
        "colab": {
          "base_uri": "https://localhost:8080/",
          "height": 221
        }
      },
      "source": [
        "#hide\n",
        "!pip install -Uqq fastbook\n",
        "import fastbook\n",
        "fastbook.setup_book()"
      ],
      "execution_count": 1,
      "outputs": [
        {
          "output_type": "stream",
          "text": [
            "\u001b[K     |████████████████████████████████| 727kB 2.8MB/s \n",
            "\u001b[K     |████████████████████████████████| 358kB 9.3MB/s \n",
            "\u001b[K     |████████████████████████████████| 1.0MB 15.1MB/s \n",
            "\u001b[K     |████████████████████████████████| 61kB 6.5MB/s \n",
            "\u001b[K     |████████████████████████████████| 51kB 5.0MB/s \n",
            "\u001b[K     |████████████████████████████████| 40kB 4.5MB/s \n",
            "\u001b[K     |████████████████████████████████| 92kB 7.1MB/s \n",
            "\u001b[K     |████████████████████████████████| 40kB 4.3MB/s \n",
            "\u001b[K     |████████████████████████████████| 51kB 5.2MB/s \n",
            "\u001b[K     |████████████████████████████████| 61kB 6.1MB/s \n",
            "\u001b[K     |████████████████████████████████| 2.6MB 20.3MB/s \n",
            "\u001b[?25hMounted at /content/gdrive\n"
          ],
          "name": "stdout"
        }
      ]
    },
    {
      "cell_type": "code",
      "metadata": {
        "id": "Lp21lOAuKjo5"
      },
      "source": [
        "#hide\n",
        "from fastbook import *\n",
        "from fastai.vision.widgets import *"
      ],
      "execution_count": 2,
      "outputs": []
    },
    {
      "cell_type": "markdown",
      "metadata": {
        "id": "lpEtZYC7Kjpk"
      },
      "source": [
        "# From Model to Production"
      ]
    },
    {
      "cell_type": "markdown",
      "metadata": {
        "id": "xYH2ERgxKjpw"
      },
      "source": [
        "## The Practice of Deep Learning"
      ]
    },
    {
      "cell_type": "markdown",
      "metadata": {
        "id": "BmLv5xXbKjpx"
      },
      "source": [
        "### Starting Your Project"
      ]
    },
    {
      "cell_type": "markdown",
      "metadata": {
        "id": "V0LAFgOuKjpy"
      },
      "source": [
        "### The State of Deep Learning"
      ]
    },
    {
      "cell_type": "markdown",
      "metadata": {
        "id": "5Oh-KhoSKjp6"
      },
      "source": [
        "#### Computer vision"
      ]
    },
    {
      "cell_type": "markdown",
      "metadata": {
        "id": "2wxnxmmWKjp7"
      },
      "source": [
        "#### Text (natural language processing)"
      ]
    },
    {
      "cell_type": "markdown",
      "metadata": {
        "id": "ADLD4mV3Kjp9"
      },
      "source": [
        "#### Combining text and images"
      ]
    },
    {
      "cell_type": "markdown",
      "metadata": {
        "id": "Djh5bMd-Kjp-"
      },
      "source": [
        "#### Tabular data"
      ]
    },
    {
      "cell_type": "markdown",
      "metadata": {
        "id": "8tBItspMKjp_"
      },
      "source": [
        "#### Recommendation systems"
      ]
    },
    {
      "cell_type": "markdown",
      "metadata": {
        "id": "wL_HZcK5KjqA"
      },
      "source": [
        "#### Other data types"
      ]
    },
    {
      "cell_type": "markdown",
      "metadata": {
        "id": "G7_DevvNKjqA"
      },
      "source": [
        "### The Drivetrain Approach"
      ]
    },
    {
      "cell_type": "markdown",
      "metadata": {
        "id": "_hTVLMH7KjqB"
      },
      "source": [
        "## Gathering Data"
      ]
    },
    {
      "cell_type": "markdown",
      "metadata": {
        "id": "uATqb0ESKjqC"
      },
      "source": [
        "# clean\n",
        "To download images with Bing Image Search, sign up at Microsoft for a free account. You will be given a key, which you can copy and enter in a cell as follows (replacing 'XXX' with your key and executing it):"
      ]
    },
    {
      "cell_type": "code",
      "metadata": {
        "id": "N0sCTJyzKjqD",
        "outputId": "cb0fc5ca-634e-404e-ca7d-5ec95d4932dd",
        "colab": {
          "base_uri": "https://localhost:8080/",
          "height": 35
        }
      },
      "source": [
        "key = os.environ.get('AZURE_SEARCH_KEY', '82738575ba8349599f1dc9a289806cb0')\n",
        "key"
      ],
      "execution_count": 4,
      "outputs": [
        {
          "output_type": "execute_result",
          "data": {
            "application/vnd.google.colaboratory.intrinsic+json": {
              "type": "string"
            },
            "text/plain": [
              "'82738575ba8349599f1dc9a289806cb0'"
            ]
          },
          "metadata": {
            "tags": []
          },
          "execution_count": 4
        }
      ]
    },
    {
      "cell_type": "code",
      "metadata": {
        "id": "PuHeG2n9KjqI",
        "outputId": "e52e26b4-485e-48f9-cf67-954ad48234e9",
        "colab": {
          "base_uri": "https://localhost:8080/",
          "height": 34
        }
      },
      "source": [
        "search_images_bing"
      ],
      "execution_count": 5,
      "outputs": [
        {
          "output_type": "execute_result",
          "data": {
            "text/plain": [
              "<function fastbook.search_images_bing>"
            ]
          },
          "metadata": {
            "tags": []
          },
          "execution_count": 5
        }
      ]
    },
    {
      "cell_type": "code",
      "metadata": {
        "id": "KDfuKydhKjqM",
        "outputId": "463ef490-7c0b-4d3e-d9c8-fc7bf85125fe",
        "colab": {
          "base_uri": "https://localhost:8080/",
          "height": 34
        }
      },
      "source": [
        "results = search_images_bing(key, 'grizzly bear')\n",
        "ims = results.attrgot('content_url')\n",
        "len(ims)"
      ],
      "execution_count": 7,
      "outputs": [
        {
          "output_type": "execute_result",
          "data": {
            "text/plain": [
              "150"
            ]
          },
          "metadata": {
            "tags": []
          },
          "execution_count": 7
        }
      ]
    },
    {
      "cell_type": "code",
      "metadata": {
        "id": "qaowVFPtL1_z",
        "outputId": "de11cc2b-ff77-4d5b-8425-31bdd9cd24be",
        "colab": {
          "base_uri": "https://localhost:8080/",
          "height": 54
        }
      },
      "source": [
        "ims"
      ],
      "execution_count": 9,
      "outputs": [
        {
          "output_type": "execute_result",
          "data": {
            "text/plain": [
              "(#150) ['http://3.bp.blogspot.com/-S1scRCkI3vY/UHzV2kucsPI/AAAAAAAAA-k/YQ5UzHEm9Ss/s1600/Grizzly+Bear+Wildlife.jpg','https://static01.nyt.com/images/2017/06/23/science/23GRIZZLY/23GRIZZLY-superJumbo.jpg','https://news.nationalgeographic.com/content/dam/news/2016/03/04/grizzly_delisting/01grizzlydelisting.ngsversion.1457364600397.adapt.1900.1.jpg','https://upload.wikimedia.org/wikipedia/commons/thumb/a/a9/GrizzlyBearJeanBeaufort.jpg/1200px-GrizzlyBearJeanBeaufort.jpg','https://thelatebloomerhiker.files.wordpress.com/2014/11/grizzly-bear-22224-1920x1200.jpg','http://s1.ibtimes.com/sites/www.ibtimes.com/files/styles/embed/public/2013/10/28/grizzly-bears.jpg','https://www.pbs.org/wnet/nature/files/2018/07/Bear133-1280x720.jpg','http://3.bp.blogspot.com/-6VJBVEQKaFc/TgbRVFNtahI/AAAAAAAAAFY/BpIqDsfc9JY/s1600/102487-050-BD924456.jpg','https://thenypost.files.wordpress.com/2014/09/bear1.jpg?quality=90&strip=all&w=1200','https://www.conservationnw.org/wp-content/uploads/2017/06/Grizzly-bear-family-Copyright-iStock.com_PhotosbyAndy-4.2015-e1507229404830.jpg'...]"
            ]
          },
          "metadata": {
            "tags": []
          },
          "execution_count": 9
        }
      ]
    },
    {
      "cell_type": "code",
      "metadata": {
        "id": "Mg9LeTr-KjqY"
      },
      "source": [
        "#hide\n",
        "ims = ['http://3.bp.blogspot.com/-S1scRCkI3vY/UHzV2kucsPI/AAAAAAAAA-k/YQ5UzHEm9Ss/s1600/Grizzly%2BBear%2BWildlife.jpg']"
      ],
      "execution_count": null,
      "outputs": []
    },
    {
      "cell_type": "code",
      "metadata": {
        "id": "Rtofpk6eKjqm"
      },
      "source": [
        "dest = 'images/grizzly.jpg'\n",
        "download_url(ims[0], dest)"
      ],
      "execution_count": null,
      "outputs": []
    },
    {
      "cell_type": "code",
      "metadata": {
        "id": "fCWYh-WVKjqt"
      },
      "source": [
        "im = Image.open(dest)\n",
        "im.to_thumb(128,128)"
      ],
      "execution_count": null,
      "outputs": []
    },
    {
      "cell_type": "code",
      "metadata": {
        "id": "4lhLsSSPKjq2"
      },
      "source": [
        "bear_types = 'grizzly','black','teddy'\n",
        "path = Path('bears')"
      ],
      "execution_count": null,
      "outputs": []
    },
    {
      "cell_type": "code",
      "metadata": {
        "id": "Vx2PA9IHKjq6"
      },
      "source": [
        "if not path.exists():\n",
        "    path.mkdir()\n",
        "    for o in bear_types:\n",
        "        dest = (path/o)\n",
        "        dest.mkdir(exist_ok=True)\n",
        "        results = search_images_bing(key, f'{o} bear')\n",
        "        download_images(dest, urls=results.attrgot('content_url'))"
      ],
      "execution_count": null,
      "outputs": []
    },
    {
      "cell_type": "code",
      "metadata": {
        "id": "_dqBPVi4Kjq-"
      },
      "source": [
        "fns = get_image_files(path)\n",
        "fns"
      ],
      "execution_count": null,
      "outputs": []
    },
    {
      "cell_type": "code",
      "metadata": {
        "id": "1YexQhsOKjrC"
      },
      "source": [
        "failed = verify_images(fns)\n",
        "failed"
      ],
      "execution_count": null,
      "outputs": []
    },
    {
      "cell_type": "code",
      "metadata": {
        "id": "qRkh6bJFKjrF"
      },
      "source": [
        "failed.map(Path.unlink);"
      ],
      "execution_count": null,
      "outputs": []
    },
    {
      "cell_type": "markdown",
      "metadata": {
        "id": "ivXhfM84KjrJ"
      },
      "source": [
        "### Sidebar: Getting Help in Jupyter Notebooks"
      ]
    },
    {
      "cell_type": "markdown",
      "metadata": {
        "id": "I-YvBpm1KjrJ"
      },
      "source": [
        "### End sidebar"
      ]
    },
    {
      "cell_type": "markdown",
      "metadata": {
        "id": "T8M6USjbKjrK"
      },
      "source": [
        "## From Data to DataLoaders"
      ]
    },
    {
      "cell_type": "code",
      "metadata": {
        "id": "_zp-wE6fKjrK"
      },
      "source": [
        "bears = DataBlock(\n",
        "    blocks=(ImageBlock, CategoryBlock), \n",
        "    get_items=get_image_files, \n",
        "    splitter=RandomSplitter(valid_pct=0.2, seed=42),\n",
        "    get_y=parent_label,\n",
        "    item_tfms=Resize(128))"
      ],
      "execution_count": null,
      "outputs": []
    },
    {
      "cell_type": "code",
      "metadata": {
        "id": "XJCQIf9wKjrN"
      },
      "source": [
        "dls = bears.dataloaders(path)"
      ],
      "execution_count": null,
      "outputs": []
    },
    {
      "cell_type": "code",
      "metadata": {
        "id": "8FPlaBlwKjrR"
      },
      "source": [
        "dls.valid.show_batch(max_n=4, nrows=1)"
      ],
      "execution_count": null,
      "outputs": []
    },
    {
      "cell_type": "code",
      "metadata": {
        "id": "b5Di8hIgKjrU"
      },
      "source": [
        "bears = bears.new(item_tfms=Resize(128, ResizeMethod.Squish))\n",
        "dls = bears.dataloaders(path)\n",
        "dls.valid.show_batch(max_n=4, nrows=1)"
      ],
      "execution_count": null,
      "outputs": []
    },
    {
      "cell_type": "code",
      "metadata": {
        "id": "u0iob0AMKjrW"
      },
      "source": [
        "bears = bears.new(item_tfms=Resize(128, ResizeMethod.Pad, pad_mode='zeros'))\n",
        "dls = bears.dataloaders(path)\n",
        "dls.valid.show_batch(max_n=4, nrows=1)"
      ],
      "execution_count": null,
      "outputs": []
    },
    {
      "cell_type": "code",
      "metadata": {
        "id": "eBtyAmHMKjrZ"
      },
      "source": [
        "bears = bears.new(item_tfms=RandomResizedCrop(128, min_scale=0.3))\n",
        "dls = bears.dataloaders(path)\n",
        "dls.train.show_batch(max_n=4, nrows=1, unique=True)"
      ],
      "execution_count": null,
      "outputs": []
    },
    {
      "cell_type": "markdown",
      "metadata": {
        "id": "9a53nPKrKjrb"
      },
      "source": [
        "### Data Augmentation"
      ]
    },
    {
      "cell_type": "code",
      "metadata": {
        "id": "Y3YUf3SrKjrc"
      },
      "source": [
        "bears = bears.new(item_tfms=Resize(128), batch_tfms=aug_transforms(mult=2))\n",
        "dls = bears.dataloaders(path)\n",
        "dls.train.show_batch(max_n=8, nrows=2, unique=True)"
      ],
      "execution_count": null,
      "outputs": []
    },
    {
      "cell_type": "markdown",
      "metadata": {
        "id": "gQhHk_fEKjrg"
      },
      "source": [
        "## Training Your Model, and Using It to Clean Your Data"
      ]
    },
    {
      "cell_type": "code",
      "metadata": {
        "id": "29rAGlnOKjrh"
      },
      "source": [
        "bears = bears.new(\n",
        "    item_tfms=RandomResizedCrop(224, min_scale=0.5),\n",
        "    batch_tfms=aug_transforms())\n",
        "dls = bears.dataloaders(path)"
      ],
      "execution_count": null,
      "outputs": []
    },
    {
      "cell_type": "code",
      "metadata": {
        "id": "gs6KYsS6Kjrk"
      },
      "source": [
        "learn = cnn_learner(dls, resnet18, metrics=error_rate)\n",
        "learn.fine_tune(4)"
      ],
      "execution_count": null,
      "outputs": []
    },
    {
      "cell_type": "code",
      "metadata": {
        "id": "PzeMAGCkKjrm"
      },
      "source": [
        "interp = ClassificationInterpretation.from_learner(learn)\n",
        "interp.plot_confusion_matrix()"
      ],
      "execution_count": null,
      "outputs": []
    },
    {
      "cell_type": "code",
      "metadata": {
        "id": "gCdlCjroKjrq"
      },
      "source": [
        "interp.plot_top_losses(5, nrows=1)"
      ],
      "execution_count": null,
      "outputs": []
    },
    {
      "cell_type": "code",
      "metadata": {
        "id": "FQHiC96fKjrt"
      },
      "source": [
        "cleaner = ImageClassifierCleaner(learn)\n",
        "cleaner"
      ],
      "execution_count": null,
      "outputs": []
    },
    {
      "cell_type": "code",
      "metadata": {
        "id": "Q_A7NcszKjrw"
      },
      "source": [
        "#hide\n",
        "# for idx in cleaner.delete(): cleaner.fns[idx].unlink()\n",
        "# for idx,cat in cleaner.change(): shutil.move(str(cleaner.fns[idx]), path/cat)"
      ],
      "execution_count": null,
      "outputs": []
    },
    {
      "cell_type": "markdown",
      "metadata": {
        "id": "HRL49NUEKjrz"
      },
      "source": [
        "## Turning Your Model into an Online Application"
      ]
    },
    {
      "cell_type": "markdown",
      "metadata": {
        "id": "PPwaSNeyKjrz"
      },
      "source": [
        "### Using the Model for Inference"
      ]
    },
    {
      "cell_type": "code",
      "metadata": {
        "id": "V-Nr8aFgKjr0"
      },
      "source": [
        "learn.export()"
      ],
      "execution_count": null,
      "outputs": []
    },
    {
      "cell_type": "code",
      "metadata": {
        "id": "5Q_TjrcaKjr4"
      },
      "source": [
        "path = Path()\n",
        "path.ls(file_exts='.pkl')"
      ],
      "execution_count": null,
      "outputs": []
    },
    {
      "cell_type": "code",
      "metadata": {
        "id": "Q22-P4gAKjr7"
      },
      "source": [
        "learn_inf = load_learner(path/'export.pkl')"
      ],
      "execution_count": null,
      "outputs": []
    },
    {
      "cell_type": "code",
      "metadata": {
        "id": "RufknYSXKjr-"
      },
      "source": [
        "learn_inf.predict('images/grizzly.jpg')"
      ],
      "execution_count": null,
      "outputs": []
    },
    {
      "cell_type": "code",
      "metadata": {
        "id": "tc5J5-MlKjsB"
      },
      "source": [
        "learn_inf.dls.vocab"
      ],
      "execution_count": null,
      "outputs": []
    },
    {
      "cell_type": "markdown",
      "metadata": {
        "id": "QNbUM40-KjsE"
      },
      "source": [
        "### Creating a Notebook App from the Model"
      ]
    },
    {
      "cell_type": "code",
      "metadata": {
        "id": "lNKjxBsAKjsE"
      },
      "source": [
        "btn_upload = widgets.FileUpload()\n",
        "btn_upload"
      ],
      "execution_count": null,
      "outputs": []
    },
    {
      "cell_type": "code",
      "metadata": {
        "id": "6L6Sndw5KjsI"
      },
      "source": [
        "#hide\n",
        "# For the book, we can't actually click an upload button, so we fake it\n",
        "btn_upload = SimpleNamespace(data = ['images/grizzly.jpg'])"
      ],
      "execution_count": null,
      "outputs": []
    },
    {
      "cell_type": "code",
      "metadata": {
        "id": "UbL290LDKjsK"
      },
      "source": [
        "img = PILImage.create(btn_upload.data[-1])"
      ],
      "execution_count": null,
      "outputs": []
    },
    {
      "cell_type": "code",
      "metadata": {
        "id": "v8nkr3FyKjsN"
      },
      "source": [
        "out_pl = widgets.Output()\n",
        "out_pl.clear_output()\n",
        "with out_pl: display(img.to_thumb(128,128))\n",
        "out_pl"
      ],
      "execution_count": null,
      "outputs": []
    },
    {
      "cell_type": "code",
      "metadata": {
        "id": "7vwXc30AKjsQ"
      },
      "source": [
        "pred,pred_idx,probs = learn_inf.predict(img)"
      ],
      "execution_count": null,
      "outputs": []
    },
    {
      "cell_type": "code",
      "metadata": {
        "id": "E1Nifc1TKjsV"
      },
      "source": [
        "lbl_pred = widgets.Label()\n",
        "lbl_pred.value = f'Prediction: {pred}; Probability: {probs[pred_idx]:.04f}'\n",
        "lbl_pred"
      ],
      "execution_count": null,
      "outputs": []
    },
    {
      "cell_type": "code",
      "metadata": {
        "id": "x3VvmLQiKjse"
      },
      "source": [
        "btn_run = widgets.Button(description='Classify')\n",
        "btn_run"
      ],
      "execution_count": null,
      "outputs": []
    },
    {
      "cell_type": "code",
      "metadata": {
        "id": "HQCRcTZnKjsg"
      },
      "source": [
        "def on_click_classify(change):\n",
        "    img = PILImage.create(btn_upload.data[-1])\n",
        "    out_pl.clear_output()\n",
        "    with out_pl: display(img.to_thumb(128,128))\n",
        "    pred,pred_idx,probs = learn_inf.predict(img)\n",
        "    lbl_pred.value = f'Prediction: {pred}; Probability: {probs[pred_idx]:.04f}'\n",
        "\n",
        "btn_run.on_click(on_click_classify)"
      ],
      "execution_count": null,
      "outputs": []
    },
    {
      "cell_type": "code",
      "metadata": {
        "id": "hT8wdEtrKjsk"
      },
      "source": [
        "#hide\n",
        "#Putting back btn_upload to a widget for next cell\n",
        "btn_upload = widgets.FileUpload()"
      ],
      "execution_count": null,
      "outputs": []
    },
    {
      "cell_type": "code",
      "metadata": {
        "id": "eGLPgV3fKjsm"
      },
      "source": [
        "VBox([widgets.Label('Select your bear!'), \n",
        "      btn_upload, btn_run, out_pl, lbl_pred])"
      ],
      "execution_count": null,
      "outputs": []
    },
    {
      "cell_type": "markdown",
      "metadata": {
        "id": "_QgC7fTSKjsp"
      },
      "source": [
        "### Turning Your Notebook into a Real App"
      ]
    },
    {
      "cell_type": "code",
      "metadata": {
        "id": "39L_olzNKjsp"
      },
      "source": [
        "#hide\n",
        "# !pip install voila\n",
        "# !jupyter serverextension enable voila —sys-prefix"
      ],
      "execution_count": null,
      "outputs": []
    },
    {
      "cell_type": "markdown",
      "metadata": {
        "id": "W70_ThlWKjsu"
      },
      "source": [
        "### Deploying your app"
      ]
    },
    {
      "cell_type": "markdown",
      "metadata": {
        "id": "5z5rXa67Kjsu"
      },
      "source": [
        "## How to Avoid Disaster"
      ]
    },
    {
      "cell_type": "markdown",
      "metadata": {
        "id": "_dP6MLUAKjsv"
      },
      "source": [
        "### Unforeseen Consequences and Feedback Loops"
      ]
    },
    {
      "cell_type": "markdown",
      "metadata": {
        "id": "Xw9W1EsIKjsv"
      },
      "source": [
        "## Get Writing!"
      ]
    },
    {
      "cell_type": "markdown",
      "metadata": {
        "id": "Lz9UlwX1Kjsx"
      },
      "source": [
        "## Questionnaire"
      ]
    },
    {
      "cell_type": "markdown",
      "metadata": {
        "id": "cjhDjfpfKjsx"
      },
      "source": [
        "1. Provide an example of where the bear classification model might work poorly in production, due to structural or style differences in the training data.\n",
        "1. Where do text models currently have a major deficiency?\n",
        "1. What are possible negative societal implications of text generation models?\n",
        "1. In situations where a model might make mistakes, and those mistakes could be harmful, what is a good alternative to automating a process?\n",
        "1. What kind of tabular data is deep learning particularly good at?\n",
        "1. What's a key downside of directly using a deep learning model for recommendation systems?\n",
        "1. What are the steps of the Drivetrain Approach?\n",
        "1. How do the steps of the Drivetrain Approach map to a recommendation system?\n",
        "1. Create an image recognition model using data you curate, and deploy it on the web.\n",
        "1. What is `DataLoaders`?\n",
        "1. What four things do we need to tell fastai to create `DataLoaders`?\n",
        "1. What does the `splitter` parameter to `DataBlock` do?\n",
        "1. How do we ensure a random split always gives the same validation set?\n",
        "1. What letters are often used to signify the independent and dependent variables?\n",
        "1. What's the difference between the crop, pad, and squish resize approaches? When might you choose one over the others?\n",
        "1. What is data augmentation? Why is it needed?\n",
        "1. What is the difference between `item_tfms` and `batch_tfms`?\n",
        "1. What is a confusion matrix?\n",
        "1. What does `export` save?\n",
        "1. What is it called when we use a model for getting predictions, instead of training?\n",
        "1. What are IPython widgets?\n",
        "1. When might you want to use CPU for deployment? When might GPU be better?\n",
        "1. What are the downsides of deploying your app to a server, instead of to a client (or edge) device such as a phone or PC?\n",
        "1. What are three examples of problems that could occur when rolling out a bear warning system in practice?\n",
        "1. What is \"out-of-domain data\"?\n",
        "1. What is \"domain shift\"?\n",
        "1. What are the three steps in the deployment process?"
      ]
    },
    {
      "cell_type": "markdown",
      "metadata": {
        "id": "gOKXS75wKjsy"
      },
      "source": [
        "### Further Research"
      ]
    },
    {
      "cell_type": "markdown",
      "metadata": {
        "id": "2TsGUFNVKjsy"
      },
      "source": [
        "1. Consider how the Drivetrain Approach maps to a project or problem you're interested in.\n",
        "1. When might it be best to avoid certain types of data augmentation?\n",
        "1. For a project you're interested in applying deep learning to, consider the thought experiment \"What would happen if it went really, really well?\"\n",
        "1. Start a blog, and write your first blog post. For instance, write about what you think deep learning might be useful for in a domain you're interested in."
      ]
    },
    {
      "cell_type": "code",
      "metadata": {
        "id": "Jgameh_tKjsy"
      },
      "source": [
        ""
      ],
      "execution_count": null,
      "outputs": []
    }
  ]
}